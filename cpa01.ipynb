{
 "cells": [
  {
   "cell_type": "markdown",
   "metadata": {},
   "source": [
    "# COVID-19 Cases Dataset\n",
    "\n",
    "Data is taken from https://ourworldindata.org/covid-cases and describes daily new confirmed COVID-19 cases per million people for each country. To download, visit the site and in the bottom right of the first graph, there is a button that says download. Click, and select full data set (csv).\n",
    "\n",
    "There are a couple interesting questions for this dataset:\n",
    "1. How do different countries compare over time? Comparing all countries may be too much\n",
    "2. Is there a relationship between new cases and hand-washing facilities, life expectancy, developed/developing countries, or hospital beds?"
   ]
  },
  {
   "cell_type": "code",
   "execution_count": null,
   "metadata": {},
   "outputs": [],
   "source": [
    "import pandas as pd\n",
    "import matplotlib.pyplot as plt"
   ]
  },
  {
   "cell_type": "markdown",
   "metadata": {},
   "source": [
    "## Data Overview\n",
    "\n",
    "Read in the data and print summaries (pd.describe()) and column indicies (df.columns)"
   ]
  },
  {
   "cell_type": "code",
   "execution_count": null,
   "metadata": {},
   "outputs": [],
   "source": [
    "df = pd.read_csv ('owid-coid-data.csv')\n",
    "df"
   ]
  },
  {
   "cell_type": "code",
   "execution_count": null,
   "metadata": {},
   "outputs": [],
   "source": [
    "df.describe()"
   ]
  },
  {
   "cell_type": "code",
   "execution_count": null,
   "metadata": {},
   "outputs": [],
   "source": [
    "df.columns"
   ]
  },
  {
   "cell_type": "markdown",
   "metadata": {},
   "source": [
    "## Plots Using Pivot Table"
   ]
  },
  {
   "cell_type": "code",
   "execution_count": null,
   "metadata": {},
   "outputs": [],
   "source": [
    "# Pivot table of new cases smoothed per million by date and location\n",
    "column = 'new_cases_smoothed_per_million'\n",
    "df2 = pd.pivot_table(df, values=column, index=[\"date\"], columns=[\"location\"])\n",
    "df2"
   ]
  },
  {
   "cell_type": "code",
   "execution_count": null,
   "metadata": {},
   "outputs": [],
   "source": [
    "# Plot new cases per million for selected various countries using above pivot table\n",
    "df2[['United States','France','China','South Africa','New Zealand','Italy','Japan','Mexico','India','United Kingdom']].plot(figsize=(15,10))\n",
    "\n",
    "# Add grid, labels, title, format\n",
    "plt.grid()\n",
    "plt.ylabel('New Cases per Million')\n",
    "plt.xlabel('Date')\n",
    "plt.title('New Cases Per Million Per Country')"
   ]
  },
  {
   "cell_type": "markdown",
   "metadata": {},
   "source": [
    "The above plot shows new case per million over time of a select few countries. Some countries, such as Japan, China, an New Zealand (up until recently) did very well and have had very few cases. The United Kingdom, France, the United States, Italy, and other countries have a large number of cases. \n",
    "\n",
    "Up until December of 2021, peaks are a result of waves from the Alpha, Beta, and Delta variants. They are staggered, based on when those variants arrive in that country. The United States cases usually peak slightly after others, as variants are often first found on the other side of the Atlantic and take some time to arrive to the States.\n",
    "\n",
    "The peaks on and after December of 2021 are attributed to the Omicron variant, resulting in record numbers of new cases. France appears to have the most new cases per million, but is now coming back down. Italy, the United States, and the United Kingsom have high peaks but are also returning to their previous numbers. New Zealand, previous with very low numbers, is currently spiking dramatically."
   ]
  },
  {
   "cell_type": "code",
   "execution_count": null,
   "metadata": {},
   "outputs": [],
   "source": [
    "# Pivot table of new deaths smoothed per million by date and location\n",
    "column = 'new_deaths_smoothed_per_million'\n",
    "df3 = pd.pivot_table(df, values=column, index=[\"date\"], columns=[\"location\"])\n",
    "df3"
   ]
  },
  {
   "cell_type": "code",
   "execution_count": null,
   "metadata": {},
   "outputs": [],
   "source": [
    "# Plot new deaths per million for various selected countries using above pivot table\n",
    "df3[['United States','France','China','South Africa','New Zealand','Italy','Japan','Mexico','India','United Kingdom']].plot(figsize=(15,10))\n",
    "\n",
    "# Add grid, labels, title, format\n",
    "plt.grid()\n",
    "plt.ylabel('New Deaths per Million')\n",
    "plt.xlabel('Date')\n",
    "plt.title('New Deaths Per Million Per Country')"
   ]
  },
  {
   "cell_type": "markdown",
   "metadata": {},
   "source": [
    "The above plot shows the number of new deaths per million in a select number of countries. China, Japan, and New Zealand have has very few deaths, just as with new cases. The United Kingdom, France, the United States, Italy, and other countries have more deathes per million.\n",
    "\n",
    "Again, the peaks coincide with the variants, where some countries are shifted depending on when the waves arrived. Most deaths appear to be due to Alpha and Delta variants, judging by the dates for the peaks around April 2020 and January 2021. The Omicron variant resulting in fewer deaths than the previous variants, especially considering the number of new cases is several times higher than previous peaks. This indicates that the Omicron variant, while contagious and not necessarily well-handled, has very low fatality rates and is in that sense much weaker than previous variants."
   ]
  },
  {
   "cell_type": "markdown",
   "metadata": {},
   "source": [
    "## Plots with df and groupby"
   ]
  },
  {
   "cell_type": "code",
   "execution_count": null,
   "metadata": {},
   "outputs": [],
   "source": [
    "# Use groupby and get_group to plot new cases per million in the entire world\n",
    "# groupby location and get world group to select desired rows\n",
    "df.groupby('location').get_group('World').plot(x='date',y='new_cases_smoothed_per_million',figsize=(15,10),legend=False)\n",
    "\n",
    "# Add grid, labels, title, format\n",
    "plt.grid()\n",
    "plt.ticklabel_format(useOffset=False,style='plain',axis='y')\n",
    "plt.ylabel('New Cases per Million')\n",
    "plt.xlabel('Date')\n",
    "plt.title('New Cases Per Million in the World')"
   ]
  },
  {
   "cell_type": "markdown",
   "metadata": {},
   "source": [
    "Directly using the data frame and the groupby feature, plotted above are new cases smoothed per million in the entire world over time. Notice the peaks around late 2020, April 2021, August 2021, and early this year. These coincide with the emergence of Alpha, Beta, and then Delta variants as the cases came in waves, with the most recent and largest spike likely being attributed to Omicron."
   ]
  },
  {
   "cell_type": "code",
   "execution_count": null,
   "metadata": {},
   "outputs": [],
   "source": [
    "# Use scatter to plot relationship between total cases per million and human development index\n",
    "# Select rows for the most recent date, plot relevant columns\n",
    "df[df['date']=='2022-03-07'].plot.scatter(x='human_development_index',y='total_cases_per_million',figsize=(15,10))\n",
    "\n",
    "# Add grid, labels, title, format\n",
    "plt.grid()\n",
    "plt.ticklabel_format(useOffset=False,style='plain',axis='y')\n",
    "plt.ylabel('Total Cases per Million')\n",
    "plt.xlabel('Human Development Index')\n",
    "plt.title('Relationship between Total Cases per Million and Human Development Index')"
   ]
  },
  {
   "cell_type": "markdown",
   "metadata": {},
   "source": [
    "Above is plotted most recent total cases per million with respect to the human development index. For low indices, there are extremely few cases, but for more developed countries, there is an increasingly wide range of case numbers. It appears there is a positive correlation between how developed a country is and the number of covid cases. This suggests that covid is primarily a problem in the developed world.\n",
    "\n",
    "One possible explanation is that there is more travel between developed countries, so the virus spreads more easily there. Another possibility is that in more developed, democratic countries, citizens have greater freedom to travel outside of their homes, whereas a more authoritarian government may more effectively restrict human-to-human contact."
   ]
  },
  {
   "cell_type": "code",
   "execution_count": null,
   "metadata": {},
   "outputs": [],
   "source": [
    "# Use groupby and agg to repeat to plot of cases per million in the world, but restrict to the developed world\n",
    "# select only rows were are interested in (development > .7), then group by date to get mean\n",
    "df[df['human_development_index'] > .7].groupby('date').new_cases_smoothed_per_million.agg('mean').plot(x='date',y='new_cases_smoothed',figsize=(15,10),legend=False)\n",
    "\n",
    "# Add grid, labels, title, format\n",
    "plt.grid()\n",
    "plt.ticklabel_format(useOffset=False,style='plain',axis='y')\n",
    "plt.ylabel('New Cases per Million')\n",
    "plt.xlabel('Date')\n",
    "plt.title('New Cases per Million in the Developed World')"
   ]
  },
  {
   "cell_type": "markdown",
   "metadata": {},
   "source": [
    "To re-affirm the conclusion reached in the previous plot, this one evaluates cases per million in the developed world (defined by human_development_index > 0.7). The cases are double to quadruple that of the world average."
   ]
  },
  {
   "cell_type": "code",
   "execution_count": null,
   "metadata": {},
   "outputs": [],
   "source": []
  }
 ],
 "metadata": {
  "kernelspec": {
   "display_name": "Python 3",
   "language": "python",
   "name": "python3"
  },
  "language_info": {
   "codemirror_mode": {
    "name": "ipython",
    "version": 3
   },
   "file_extension": ".py",
   "mimetype": "text/x-python",
   "name": "python",
   "nbconvert_exporter": "python",
   "pygments_lexer": "ipython3",
   "version": "3.8.3"
  }
 },
 "nbformat": 4,
 "nbformat_minor": 4
}
